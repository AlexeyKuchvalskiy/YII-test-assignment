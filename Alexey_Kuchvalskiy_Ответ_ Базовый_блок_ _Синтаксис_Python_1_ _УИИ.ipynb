{
  "nbformat": 4,
  "nbformat_minor": 0,
  "metadata": {
    "colab": {
      "provenance": [],
      "collapsed_sections": []
    },
    "kernelspec": {
      "display_name": "Python 3",
      "name": "python3"
    },
    "language_info": {
      "name": "python"
    }
  },
  "cells": [
    {
      "cell_type": "markdown",
      "metadata": {
        "id": "39zJTivLrXFV"
      },
      "source": [
        "### Задача 1"
      ]
    },
    {
      "cell_type": "markdown",
      "metadata": {
        "id": "8YhhSW05rc1o"
      },
      "source": [
        "Напишите программу, которая просит пользователя ввести произвольную цифру от 1 до 9, а затем выводит таблицу умножения для введенного числа.\n",
        "\n",
        "Добавьте проверку введенной пользователем информации:\n",
        "* данные должны быть целочисленного типа\n",
        "* число должно находиться в диапазоне от 1 до 9"
      ]
    },
    {
      "cell_type": "code",
      "metadata": {
        "id": "ye9ErHpKBhhU",
        "colab": {
          "base_uri": "https://localhost:8080/"
        },
        "outputId": "b94e047e-318e-4b77-e3d4-5d1ad71dc4a5"
      },
      "source": [
        "# Ваше решение\n",
        "allowed_numbers = [1, 2, 3, 4, 5, 6, 7, 8, 9] # allowed range\n",
        "\n",
        "try:\n",
        "    user_input = int(input(\"Please select number from 1 to 9 here: \")) # converting input from string to integer\n",
        "\n",
        "    if user_input in allowed_numbers:\n",
        "        for i in range(1,10):\n",
        "            product = user_input * i # calculating the product\n",
        "            print(f\"{user_input} x {i} = {product}\") # printing the result\n",
        "    else:\n",
        "        print(\"Please try again, number should be between 1 and 9\") # looking for wrong input outside of range\n",
        "except:\n",
        "    print(\"Sorry, your input can be a number only\") # looking for wrong input not an integer type\n"
      ],
      "execution_count": null,
      "outputs": [
        {
          "output_type": "stream",
          "name": "stdout",
          "text": [
            "Please select number from 1 to 9 here: 3\n",
            "3 x 1 = 3\n",
            "3 x 2 = 6\n",
            "3 x 3 = 9\n",
            "3 x 4 = 12\n",
            "3 x 5 = 15\n",
            "3 x 6 = 18\n",
            "3 x 7 = 21\n",
            "3 x 8 = 24\n",
            "3 x 9 = 27\n"
          ]
        }
      ]
    },
    {
      "cell_type": "markdown",
      "metadata": {
        "id": "dT9n_KJtpS-N"
      },
      "source": [
        "### Задача 2"
      ]
    },
    {
      "cell_type": "markdown",
      "metadata": {
        "id": "OTSU9QTLhdqe"
      },
      "source": [
        "Напишите программу, которая ищет все числа в интервале от 300 до 430 включительно, делящиеся на 11, но не делящиеся на 5. Выведите на экран все найденные числа."
      ]
    },
    {
      "cell_type": "code",
      "metadata": {
        "id": "lFWrMa8Uh9dc",
        "colab": {
          "base_uri": "https://localhost:8080/"
        },
        "outputId": "6706a609-693e-44d4-ec1c-418d3fc2a0cf"
      },
      "source": [
        "# Ваше решение\n",
        "for i in range(300, 431):\n",
        "    \n",
        "    division_result_11 = i % 11\n",
        "    division_result_5 = i % 5\n",
        "# checking if number is divisible by 11 but not divisible by 5\n",
        "    if division_result_11 == 0 and division_result_5 != 0:\n",
        "        print(i)\n"
      ],
      "execution_count": null,
      "outputs": [
        {
          "output_type": "stream",
          "name": "stdout",
          "text": [
            "308\n",
            "319\n",
            "341\n",
            "352\n",
            "363\n",
            "374\n",
            "396\n",
            "407\n",
            "418\n",
            "429\n"
          ]
        }
      ]
    },
    {
      "cell_type": "markdown",
      "metadata": {
        "id": "BDz6HXvPxsYs"
      },
      "source": [
        "### Задача 3"
      ]
    },
    {
      "cell_type": "markdown",
      "metadata": {
        "id": "_b21x2ryxziN"
      },
      "source": [
        "Напишите функцию, которая принимает один параметр (год) и определяет, является ли этот год високосным.\n",
        "\n",
        "Напомним, что ***високосными*** годами считаются те, порядковый номер которых либо кратен **4**, но при этом не кратен **100**, либо кратен **400** (например, 2000-й год являлся високосным, а 2100-й будет не високосным годом).\n",
        "\n",
        "Программа должна корректно работать на числах **1900 ≤ n ≤ 3000**.\n",
        "\n",
        "Функция должна вывести на экран \"Високосный\" в случае, если год является високосным и \"Обычный\" в противном случае."
      ]
    },
    {
      "cell_type": "code",
      "metadata": {
        "id": "W2LFTkVAeDE_",
        "colab": {
          "base_uri": "https://localhost:8080/"
        },
        "outputId": "3e22fcbd-24ad-4db4-9a9e-9ef895a443fb"
      },
      "source": [
        "# Ваше решение\n",
        "def leap_or_not():\n",
        "  \n",
        "  year = int(input(\"Which year do you want to check? \"))\n",
        "  \n",
        "  if year % 4 == 0:\n",
        "    if year % 100 == 0:\n",
        "      if year % 400 == 0:\n",
        "        print(\"Високосный\")\n",
        "      else:\n",
        "        print(\"Обычный\")\n",
        "    else:\n",
        "      print(\"Високосный\")\n",
        "  else:\n",
        "    print(\"Обычный\")\n",
        "    \n",
        "leap_or_not()\n"
      ],
      "execution_count": null,
      "outputs": [
        {
          "output_type": "stream",
          "name": "stdout",
          "text": [
            "Which year do you want to check? 1980\n",
            "Високосный\n"
          ]
        }
      ]
    },
    {
      "cell_type": "markdown",
      "metadata": {
        "id": "9sr2U6oz1Iqu"
      },
      "source": [
        "### Задача 4"
      ]
    },
    {
      "cell_type": "markdown",
      "metadata": {
        "id": "fHMBDh-ahdrz"
      },
      "source": [
        "Создайте словарь (dict) c ключами, соответствующими числам от 1 до 10 включительно и значениями, соответствующими квадратам ключей. "
      ]
    },
    {
      "cell_type": "code",
      "metadata": {
        "id": "qpzOKGoXgzwQ",
        "colab": {
          "base_uri": "https://localhost:8080/"
        },
        "outputId": "752e8553-10e7-40bd-8dd7-094d6b91285e"
      },
      "source": [
        "# Ваше решение\n",
        "my_dict = {} #creating empty dictionary\n",
        "\n",
        "for my_key in range(1, 11):\n",
        "  my_value = my_key ** 2\n",
        "  my_dict[my_key] = my_value #adding key-value pairs to distionary\n",
        "\n",
        "print (my_dict)"
      ],
      "execution_count": null,
      "outputs": [
        {
          "output_type": "stream",
          "name": "stdout",
          "text": [
            "{1: 1, 2: 4, 3: 9, 4: 16, 5: 25, 6: 36, 7: 49, 8: 64, 9: 81, 10: 100}\n"
          ]
        }
      ]
    },
    {
      "cell_type": "markdown",
      "metadata": {
        "id": "1GnNaeQ4zwt1"
      },
      "source": [
        "### Задача 5"
      ]
    },
    {
      "cell_type": "markdown",
      "metadata": {
        "id": "Rz5_LNzlr7GR"
      },
      "source": [
        "Напишите функцию простейшего калькулятора. Пользователь вводит число **a**, число **b** и вид арифметической операции над ними. Функция возвращает результат вычисления. "
      ]
    },
    {
      "cell_type": "code",
      "metadata": {
        "id": "DD8u-nSnl41M",
        "colab": {
          "base_uri": "https://localhost:8080/"
        },
        "outputId": "1c659fa2-bf4d-4aca-8523-9b23b01966d3"
      },
      "source": [
        "# Ваше решение\n",
        "def calculator(a, b, c): # defining the function and agruments\n",
        "\n",
        "  if c == \"+\":\n",
        "    result = a + b\n",
        "    print(f\"Operation result is {result}\")\n",
        "    return result\n",
        "\n",
        "  elif c == \"-\":\n",
        "    result = a - b\n",
        "    print(f\"Operation result is {result}\")\n",
        "    return result\n",
        "\n",
        "  elif c == \"*\":\n",
        "    result = a * b\n",
        "    print(f\"Operation result is {result}\")\n",
        "    return result\n",
        "\n",
        "  elif c == \"/\":\n",
        "    result = a / b\n",
        "    print(f\"Operation result is {result}\")\n",
        "    return result\n",
        "\n",
        "calculator(int(input(\"Please input first number: \")),\n",
        "           int(input(\"Please input second number: \")),\n",
        "           input(\"Please select operation: \")) # calling the function with arguments\n"
      ],
      "execution_count": null,
      "outputs": [
        {
          "output_type": "stream",
          "name": "stdout",
          "text": [
            "Please input first number: 3\n",
            "Please input second number: 5\n",
            "Please select operation: +\n",
            "Operation result is 8\n"
          ]
        },
        {
          "output_type": "execute_result",
          "data": {
            "text/plain": [
              "8"
            ]
          },
          "metadata": {},
          "execution_count": 8
        }
      ]
    },
    {
      "cell_type": "code",
      "metadata": {
        "id": "bIIN_rNzYm5G"
      },
      "source": [],
      "execution_count": null,
      "outputs": []
    }
  ]
}
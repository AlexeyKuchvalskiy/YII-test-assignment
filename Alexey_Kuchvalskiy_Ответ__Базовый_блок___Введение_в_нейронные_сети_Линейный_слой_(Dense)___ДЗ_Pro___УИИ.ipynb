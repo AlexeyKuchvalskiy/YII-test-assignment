{
  "nbformat": 4,
  "nbformat_minor": 0,
  "metadata": {
    "colab": {
      "provenance": [],
      "collapsed_sections": []
    },
    "kernelspec": {
      "name": "python3",
      "display_name": "Python 3"
    },
    "language_info": {
      "name": "python"
    },
    "accelerator": "GPU"
  },
  "cells": [
    {
      "cell_type": "markdown",
      "metadata": {
        "id": "d_qXycKuUA51"
      },
      "source": [
        "### Задание"
      ]
    },
    {
      "cell_type": "markdown",
      "metadata": {
        "id": "aUMmCXubUHEb"
      },
      "source": [
        "Самостоятельно напишите нейронную сеть, которая может стать составной частью системы бота для игры в \"Крестики-нолики\". Используя подготовленную базу изображений, создайте и обучите нейронную сеть, распознающую две категории изображений: крестики и нолики. Добейтесь точности распознавания более 95% (accuracy)\n"
      ]
    },
    {
      "cell_type": "code",
      "metadata": {
        "id": "LvOL2h3EdC9y"
      },
      "source": [
        "from tensorflow.keras.models import Sequential # Подключение класса для создания нейронной сети прямого распространения\n",
        "\n",
        "from tensorflow.keras.layers import Dense # Подключение класса для создания полносвязного слоя\n",
        "\n",
        "from tensorflow.keras.optimizers import Adam # Подключение оптимизатора\n",
        "\n",
        "from tensorflow.keras import utils # Подключение утилит для подготовки данных\n",
        "\n",
        "from tensorflow.keras.preprocessing import image # Подключение библиотеки для загрузки изображений\n",
        "\n",
        "import numpy as np # Подключение библиотеки для работы с массивами\n",
        "\n",
        "import os # Подключение модуля для работы с файлами\n",
        "\n",
        "import matplotlib.pyplot as plt # Подключение библиотек для отрисовки изображений\n",
        "from PIL import Image \n",
        "\n",
        "from tensorflow.keras.datasets import mnist     # Библиотека с базой рукописных цифр\n",
        "\n",
        "# Отрисовка изображений в ячейках ноутбука\n",
        "%matplotlib inline \n",
        "\n",
        "import gdown # Загрузка датасета из облака\n",
        "gdown.download('https://storage.yandexcloud.net/aiueducation/Content/base/l3/hw_pro.zip', None, quiet=True)\n",
        "\n",
        "!unzip -q hw_pro.zip # Распаковываем архив hw_light.zip в папку hw_light"
      ],
      "execution_count": 2,
      "outputs": []
    },
    {
      "cell_type": "code",
      "metadata": {
        "colab": {
          "base_uri": "https://localhost:8080/",
          "height": 35
        },
        "id": "lJSH41rM12IE",
        "outputId": "fd55cf61-dbf4-42a7-f246-f2b0c153c3aa"
      },
      "source": [],
      "execution_count": null,
      "outputs": [
        {
          "output_type": "execute_result",
          "data": {
            "text/plain": [
              "'hw_pro.zip'"
            ],
            "application/vnd.google.colaboratory.intrinsic+json": {
              "type": "string"
            }
          },
          "metadata": {},
          "execution_count": 2
        }
      ]
    },
    {
      "cell_type": "code",
      "metadata": {
        "id": "5HAhCsCJ1_hJ"
      },
      "source": [],
      "execution_count": null,
      "outputs": []
    },
    {
      "cell_type": "code",
      "metadata": {
        "colab": {
          "base_uri": "https://localhost:8080/"
        },
        "id": "HhHbCet01zmG",
        "outputId": "e02f03a9-8a9c-4c0f-ae10-72230a4dc31d"
      },
      "source": [
        "base_dir = '/content/hw_pro' # Путь к директории с базой\n",
        "\n",
        "x_train = [] # Создание пустого списка для загрузки изображений обучающей выборки\n",
        "\n",
        "y_train = [] # Создание списка для меток классов\n",
        "\n",
        "img_height = 20 # Задание высоты и ширины загружаемых изображений\n",
        "img_width = 20\n",
        "\n",
        "for patch in os.listdir(base_dir): # Перебор папок в директории базы\n",
        "    \n",
        "    for img in os.listdir(base_dir + '/' + patch): # Перебор файлов в папках\n",
        "        \n",
        "        x_train.append(image.img_to_array(image.load_img(base_dir + '/' + patch + '/' + img, # Добавление в список изображений текущей картинки\n",
        "                                                         target_size=(img_height, img_width),\n",
        "                                                         color_mode='grayscale'))[:,:,0])\n",
        "        \n",
        "        if patch == '0': # Добавление в массив меток, соответствующих классам\n",
        "            y_train.append(0)\n",
        "        else:\n",
        "            y_train.append(1)\n",
        "\n",
        "CLASS_COUNT = 2\n",
        "\n",
        "x_train = np.array(x_train) # Преобразование в numpy-массив загруженных изображений и меток классов\n",
        "y_train = np.array(y_train)\n",
        "\n",
        "x_train = x_train.reshape(x_train.shape[0], -1)   \n",
        "# x_test = x_test_org.reshape(x_test_org.shape[0], -1)\n",
        "x_train = x_train.astype('float32') / 255.\n",
        "y_train = utils.to_categorical(y_train, CLASS_COUNT)\n",
        "\n",
        "print('Размер массива x_train', x_train.shape) # Вывод размерностей - количество изображений, размер в пикселях\n",
        "print('Размер массива y_train', y_train.shape)\n"
      ],
      "execution_count": 38,
      "outputs": [
        {
          "output_type": "stream",
          "name": "stdout",
          "text": [
            "Размер массива x_train (102, 400)\n",
            "Размер массива y_train (102, 2)\n"
          ]
        }
      ]
    },
    {
      "cell_type": "code",
      "metadata": {
        "id": "TJLh3F3N2DCD",
        "colab": {
          "base_uri": "https://localhost:8080/",
          "height": 828
        },
        "outputId": "80513f33-3f15-4df2-fc33-4b638618aeee"
      },
      "source": [
        "# Задание константы количества распознаваемых классов\n",
        "\n",
        "model = Sequential() # создаем сеть\n",
        "\n",
        "model.add(Dense(300, input_dim=400, activation='relu')) # создаем первый линейный слой из 10 нейронов и настраиваем сеть на вход из 400 чисел\n",
        "model.add(Dense(200, activation='relu')) # второй слой\n",
        "model.add(Dense(100, activation='relu')) # второй слой\n",
        "model.add(Dense(CLASS_COUNT, activation='softmax')) # третий лой с количеством нейронов по числу классов с softmax-активацией\n",
        "\n",
        "model.summary()\n",
        "utils.plot_model(model, to_file='model_plot.png', show_shapes=True, show_layer_names=True) # hисуеv наглядную схему (граф) нейронной сети\n"
      ],
      "execution_count": 49,
      "outputs": [
        {
          "output_type": "stream",
          "name": "stdout",
          "text": [
            "Model: \"sequential_13\"\n",
            "_________________________________________________________________\n",
            " Layer (type)                Output Shape              Param #   \n",
            "=================================================================\n",
            " dense_37 (Dense)            (None, 300)               120300    \n",
            "                                                                 \n",
            " dense_38 (Dense)            (None, 200)               60200     \n",
            "                                                                 \n",
            " dense_39 (Dense)            (None, 100)               20100     \n",
            "                                                                 \n",
            " dense_40 (Dense)            (None, 2)                 202       \n",
            "                                                                 \n",
            "=================================================================\n",
            "Total params: 200,802\n",
            "Trainable params: 200,802\n",
            "Non-trainable params: 0\n",
            "_________________________________________________________________\n"
          ]
        },
        {
          "output_type": "execute_result",
          "data": {
            "image/png": "[encoded data removed]",
            "text/plain": [
              "<IPython.core.display.Image object>"
            ]
          },
          "metadata": {},
          "execution_count": 49
        }
      ]
    },
    {
      "cell_type": "code",
      "source": [
        "# компилируем и обучаем модель\n",
        "model.compile(loss='categorical_crossentropy', optimizer='adam', metrics=['accuracy']) # назначаем функцию ошибки, оптимизатор и метрики\n",
        "\n",
        "# передаем данные для обучения, сколько изображение до изменения весов, сколько циклов обучения, с визуализацией\n",
        "model.fit(x_train, y_train, batch_size=51, epochs=10, verbose=1) \n"
      ],
      "metadata": {
        "id": "n7GZZtjH6L27",
        "colab": {
          "base_uri": "https://localhost:8080/"
        },
        "outputId": "442d9e4b-f455-44f4-a602-438446840ffd"
      },
      "execution_count": 50,
      "outputs": [
        {
          "output_type": "stream",
          "name": "stdout",
          "text": [
            "Epoch 1/10\n",
            "2/2 [==============================] - 0s 8ms/step - loss: 0.9227 - accuracy: 0.5000\n",
            "Epoch 2/10\n",
            "2/2 [==============================] - 0s 7ms/step - loss: 0.6076 - accuracy: 0.6863\n",
            "Epoch 3/10\n",
            "2/2 [==============================] - 0s 6ms/step - loss: 0.5863 - accuracy: 0.6569\n",
            "Epoch 4/10\n",
            "2/2 [==============================] - 0s 7ms/step - loss: 0.5256 - accuracy: 0.7059\n",
            "Epoch 5/10\n",
            "2/2 [==============================] - 0s 6ms/step - loss: 0.4804 - accuracy: 0.8039\n",
            "Epoch 6/10\n",
            "2/2 [==============================] - 0s 7ms/step - loss: 0.3961 - accuracy: 0.9608\n",
            "Epoch 7/10\n",
            "2/2 [==============================] - 0s 7ms/step - loss: 0.3403 - accuracy: 0.9706\n",
            "Epoch 8/10\n",
            "2/2 [==============================] - 0s 6ms/step - loss: 0.2637 - accuracy: 0.9804\n",
            "Epoch 9/10\n",
            "2/2 [==============================] - 0s 7ms/step - loss: 0.2101 - accuracy: 0.9804\n",
            "Epoch 10/10\n",
            "2/2 [==============================] - 0s 6ms/step - loss: 0.1827 - accuracy: 1.0000\n"
          ]
        },
        {
          "output_type": "execute_result",
          "data": {
            "text/plain": [
              "<keras.callbacks.History at 0x7faacf2a5c90>"
            ]
          },
          "metadata": {},
          "execution_count": 50
        }
      ]
    },
    {
      "cell_type": "code",
      "source": [],
      "metadata": {
        "id": "49d-b3pg6PwL"
      },
      "execution_count": 50,
      "outputs": []
    },
    {
      "cell_type": "code",
      "source": [],
      "metadata": {
        "id": "bLWUG4MI6Q7q"
      },
      "execution_count": 50,
      "outputs": []
    }
  ]
}